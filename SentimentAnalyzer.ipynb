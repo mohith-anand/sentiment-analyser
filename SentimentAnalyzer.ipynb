{
  "nbformat": 4,
  "nbformat_minor": 0,
  "metadata": {
    "colab": {
      "provenance": []
    },
    "kernelspec": {
      "name": "python3",
      "display_name": "Python 3"
    },
    "language_info": {
      "name": "python"
    }
  },
  "cells": [
    {
      "cell_type": "code",
      "source": [
        "from google.colab import files\n",
        "uploaded = files.upload()  # This opens a file picker UI in the browser.\n"
      ],
      "metadata": {
        "colab": {
          "base_uri": "https://localhost:8080/",
          "height": 73
        },
        "id": "16wsE1swLg66",
        "outputId": "1863ade9-ea48-483e-bc65-65ddde0a5600"
      },
      "execution_count": 3,
      "outputs": [
        {
          "output_type": "display_data",
          "data": {
            "text/plain": [
              "<IPython.core.display.HTML object>"
            ],
            "text/html": [
              "\n",
              "     <input type=\"file\" id=\"files-c62d1c0d-5285-4a3f-b12f-9114fce5ae3d\" name=\"files[]\" multiple disabled\n",
              "        style=\"border:none\" />\n",
              "     <output id=\"result-c62d1c0d-5285-4a3f-b12f-9114fce5ae3d\">\n",
              "      Upload widget is only available when the cell has been executed in the\n",
              "      current browser session. Please rerun this cell to enable.\n",
              "      </output>\n",
              "      <script>// Copyright 2017 Google LLC\n",
              "//\n",
              "// Licensed under the Apache License, Version 2.0 (the \"License\");\n",
              "// you may not use this file except in compliance with the License.\n",
              "// You may obtain a copy of the License at\n",
              "//\n",
              "//      http://www.apache.org/licenses/LICENSE-2.0\n",
              "//\n",
              "// Unless required by applicable law or agreed to in writing, software\n",
              "// distributed under the License is distributed on an \"AS IS\" BASIS,\n",
              "// WITHOUT WARRANTIES OR CONDITIONS OF ANY KIND, either express or implied.\n",
              "// See the License for the specific language governing permissions and\n",
              "// limitations under the License.\n",
              "\n",
              "/**\n",
              " * @fileoverview Helpers for google.colab Python module.\n",
              " */\n",
              "(function(scope) {\n",
              "function span(text, styleAttributes = {}) {\n",
              "  const element = document.createElement('span');\n",
              "  element.textContent = text;\n",
              "  for (const key of Object.keys(styleAttributes)) {\n",
              "    element.style[key] = styleAttributes[key];\n",
              "  }\n",
              "  return element;\n",
              "}\n",
              "\n",
              "// Max number of bytes which will be uploaded at a time.\n",
              "const MAX_PAYLOAD_SIZE = 100 * 1024;\n",
              "\n",
              "function _uploadFiles(inputId, outputId) {\n",
              "  const steps = uploadFilesStep(inputId, outputId);\n",
              "  const outputElement = document.getElementById(outputId);\n",
              "  // Cache steps on the outputElement to make it available for the next call\n",
              "  // to uploadFilesContinue from Python.\n",
              "  outputElement.steps = steps;\n",
              "\n",
              "  return _uploadFilesContinue(outputId);\n",
              "}\n",
              "\n",
              "// This is roughly an async generator (not supported in the browser yet),\n",
              "// where there are multiple asynchronous steps and the Python side is going\n",
              "// to poll for completion of each step.\n",
              "// This uses a Promise to block the python side on completion of each step,\n",
              "// then passes the result of the previous step as the input to the next step.\n",
              "function _uploadFilesContinue(outputId) {\n",
              "  const outputElement = document.getElementById(outputId);\n",
              "  const steps = outputElement.steps;\n",
              "\n",
              "  const next = steps.next(outputElement.lastPromiseValue);\n",
              "  return Promise.resolve(next.value.promise).then((value) => {\n",
              "    // Cache the last promise value to make it available to the next\n",
              "    // step of the generator.\n",
              "    outputElement.lastPromiseValue = value;\n",
              "    return next.value.response;\n",
              "  });\n",
              "}\n",
              "\n",
              "/**\n",
              " * Generator function which is called between each async step of the upload\n",
              " * process.\n",
              " * @param {string} inputId Element ID of the input file picker element.\n",
              " * @param {string} outputId Element ID of the output display.\n",
              " * @return {!Iterable<!Object>} Iterable of next steps.\n",
              " */\n",
              "function* uploadFilesStep(inputId, outputId) {\n",
              "  const inputElement = document.getElementById(inputId);\n",
              "  inputElement.disabled = false;\n",
              "\n",
              "  const outputElement = document.getElementById(outputId);\n",
              "  outputElement.innerHTML = '';\n",
              "\n",
              "  const pickedPromise = new Promise((resolve) => {\n",
              "    inputElement.addEventListener('change', (e) => {\n",
              "      resolve(e.target.files);\n",
              "    });\n",
              "  });\n",
              "\n",
              "  const cancel = document.createElement('button');\n",
              "  inputElement.parentElement.appendChild(cancel);\n",
              "  cancel.textContent = 'Cancel upload';\n",
              "  const cancelPromise = new Promise((resolve) => {\n",
              "    cancel.onclick = () => {\n",
              "      resolve(null);\n",
              "    };\n",
              "  });\n",
              "\n",
              "  // Wait for the user to pick the files.\n",
              "  const files = yield {\n",
              "    promise: Promise.race([pickedPromise, cancelPromise]),\n",
              "    response: {\n",
              "      action: 'starting',\n",
              "    }\n",
              "  };\n",
              "\n",
              "  cancel.remove();\n",
              "\n",
              "  // Disable the input element since further picks are not allowed.\n",
              "  inputElement.disabled = true;\n",
              "\n",
              "  if (!files) {\n",
              "    return {\n",
              "      response: {\n",
              "        action: 'complete',\n",
              "      }\n",
              "    };\n",
              "  }\n",
              "\n",
              "  for (const file of files) {\n",
              "    const li = document.createElement('li');\n",
              "    li.append(span(file.name, {fontWeight: 'bold'}));\n",
              "    li.append(span(\n",
              "        `(${file.type || 'n/a'}) - ${file.size} bytes, ` +\n",
              "        `last modified: ${\n",
              "            file.lastModifiedDate ? file.lastModifiedDate.toLocaleDateString() :\n",
              "                                    'n/a'} - `));\n",
              "    const percent = span('0% done');\n",
              "    li.appendChild(percent);\n",
              "\n",
              "    outputElement.appendChild(li);\n",
              "\n",
              "    const fileDataPromise = new Promise((resolve) => {\n",
              "      const reader = new FileReader();\n",
              "      reader.onload = (e) => {\n",
              "        resolve(e.target.result);\n",
              "      };\n",
              "      reader.readAsArrayBuffer(file);\n",
              "    });\n",
              "    // Wait for the data to be ready.\n",
              "    let fileData = yield {\n",
              "      promise: fileDataPromise,\n",
              "      response: {\n",
              "        action: 'continue',\n",
              "      }\n",
              "    };\n",
              "\n",
              "    // Use a chunked sending to avoid message size limits. See b/62115660.\n",
              "    let position = 0;\n",
              "    do {\n",
              "      const length = Math.min(fileData.byteLength - position, MAX_PAYLOAD_SIZE);\n",
              "      const chunk = new Uint8Array(fileData, position, length);\n",
              "      position += length;\n",
              "\n",
              "      const base64 = btoa(String.fromCharCode.apply(null, chunk));\n",
              "      yield {\n",
              "        response: {\n",
              "          action: 'append',\n",
              "          file: file.name,\n",
              "          data: base64,\n",
              "        },\n",
              "      };\n",
              "\n",
              "      let percentDone = fileData.byteLength === 0 ?\n",
              "          100 :\n",
              "          Math.round((position / fileData.byteLength) * 100);\n",
              "      percent.textContent = `${percentDone}% done`;\n",
              "\n",
              "    } while (position < fileData.byteLength);\n",
              "  }\n",
              "\n",
              "  // All done.\n",
              "  yield {\n",
              "    response: {\n",
              "      action: 'complete',\n",
              "    }\n",
              "  };\n",
              "}\n",
              "\n",
              "scope.google = scope.google || {};\n",
              "scope.google.colab = scope.google.colab || {};\n",
              "scope.google.colab._files = {\n",
              "  _uploadFiles,\n",
              "  _uploadFilesContinue,\n",
              "};\n",
              "})(self);\n",
              "</script> "
            ]
          },
          "metadata": {}
        },
        {
          "output_type": "stream",
          "name": "stdout",
          "text": [
            "Saving train.csv to train.csv\n"
          ]
        }
      ]
    },
    {
      "cell_type": "code",
      "source": [
        "# Cell 1: Install Libraries and Import necessary modules\n",
        "\n",
        "!pip install nltk\n",
        "import pandas as pd\n",
        "import numpy as np\n",
        "import re\n",
        "from nltk.tokenize import word_tokenize\n",
        "from nltk.corpus import stopwords\n",
        "import nltk\n",
        "\n",
        "# Download NLTK data (run this only once)\n",
        "try:\n",
        "    nltk.data.find('tokenizers/punkt')\n",
        "    print(\"NLTK punkt tokenizer already downloaded.\")\n",
        "except LookupError:\n",
        "    print(\"Downloading NLTK punkt tokenizer...\")\n",
        "    nltk.download('punkt')\n",
        "    print(\"NLTK punkt tokenizer downloaded.\")\n",
        "\n",
        "# Try downloading punkt_tab specifically if needed\n",
        "try:\n",
        "    nltk.data.find('tokenizers/punkt_tab')\n",
        "    print(\"NLTK punkt_tab tokenizer already downloaded.\")\n",
        "except LookupError:\n",
        "    print(\"Downloading NLTK punkt_tab tokenizer...\")\n",
        "    nltk.download('punkt_tab')\n",
        "    print(\"NLTK punkt_tab tokenizer downloaded.\")\n",
        "\n",
        "\n",
        "# Download stopwords\n",
        "try:\n",
        "    nltk.data.find('corpora/stopwords')\n",
        "    print(\"NLTK stopwords already downloaded.\")\n",
        "except LookupError:\n",
        "    print(\"Downloading NLTK stopwords...\")\n",
        "    nltk.download('stopwords')\n",
        "    print(\"NLTK stopwords downloaded.\")\n",
        "\n",
        "# Download Porter Stemmer\n",
        "try:\n",
        "    nltk.data.find('stemmers/porter')\n",
        "    print(\"NLTK Porter Stemmer already downloaded.\")\n",
        "except LookupError:\n",
        "    print(\"Downloading NLTK Porter Stemmer...\")\n",
        "    nltk.download('porter_stemmer')\n",
        "    print(\"NLTK Porter Stemmer downloaded.\")\n",
        "\n",
        "\n",
        "from sklearn.model_selection import train_test_split\n",
        "from sklearn.feature_extraction.text import TfidfVectorizer\n",
        "from sklearn.linear_model import LogisticRegression # Reverting to Logistic Regression\n",
        "from sklearn.metrics import classification_report, accuracy_score"
      ],
      "metadata": {
        "colab": {
          "base_uri": "https://localhost:8080/"
        },
        "id": "JqRue5EfNFJW",
        "outputId": "4a368f3a-3e73-4011-90e5-fc1a1b51f3d2"
      },
      "execution_count": 4,
      "outputs": [
        {
          "output_type": "stream",
          "name": "stdout",
          "text": [
            "Requirement already satisfied: nltk in /usr/local/lib/python3.12/dist-packages (3.9.1)\n",
            "Requirement already satisfied: click in /usr/local/lib/python3.12/dist-packages (from nltk) (8.3.0)\n",
            "Requirement already satisfied: joblib in /usr/local/lib/python3.12/dist-packages (from nltk) (1.5.2)\n",
            "Requirement already satisfied: regex>=2021.8.3 in /usr/local/lib/python3.12/dist-packages (from nltk) (2024.11.6)\n",
            "Requirement already satisfied: tqdm in /usr/local/lib/python3.12/dist-packages (from nltk) (4.67.1)\n",
            "NLTK punkt tokenizer already downloaded.\n",
            "Downloading NLTK punkt_tab tokenizer...\n",
            "NLTK punkt_tab tokenizer downloaded.\n",
            "NLTK stopwords already downloaded.\n",
            "Downloading NLTK Porter Stemmer...\n",
            "NLTK Porter Stemmer downloaded.\n"
          ]
        },
        {
          "output_type": "stream",
          "name": "stderr",
          "text": [
            "[nltk_data] Downloading package punkt_tab to /root/nltk_data...\n",
            "[nltk_data]   Unzipping tokenizers/punkt_tab.zip.\n",
            "[nltk_data] Error loading porter_stemmer: Package 'porter_stemmer' not\n",
            "[nltk_data]     found in index\n"
          ]
        }
      ]
    },
    {
      "cell_type": "code",
      "source": [
        "# Cell 2: Load the Dataset\n",
        "\n",
        "# Load the CSV file (assuming it's named train.csv and is in the default directory)\n",
        "# If your file has a different name or is in a subdirectory, adjust the path accordingly.\n",
        "try:\n",
        "    train_df = pd.read_csv(\"train.csv\", encoding='latin-1') # Added encoding just in case\n",
        "    print(\"Successfully loaded train.csv\")\n",
        "    print(\"\\nFirst 5 rows of the dataset:\")\n",
        "    print(train_df.head())\n",
        "    print(\"\\nMissing values per column:\")\n",
        "    print(train_df.isnull().sum())\n",
        "    print(\"\\nColumn names:\")\n",
        "    print(train_df.columns.tolist()) # Print columns as a list for clarity\n",
        "\n",
        "except FileNotFoundError:\n",
        "    print(\"Error: train.csv not found. Please make sure you have uploaded the file to your Colab environment.\")\n",
        "    # You might want to stop execution here if the file is essential\n",
        "    # In a script, you would use exit() or raise an exception.\n",
        "    # In a notebook, you can just observe the error and fix the upload."
      ],
      "metadata": {
        "colab": {
          "base_uri": "https://localhost:8080/"
        },
        "id": "v8_0reZBNF3k",
        "outputId": "7f4f1419-6ef4-4bc3-e199-bd188e618cd4"
      },
      "execution_count": 5,
      "outputs": [
        {
          "output_type": "stream",
          "name": "stdout",
          "text": [
            "Successfully loaded train.csv\n",
            "\n",
            "First 5 rows of the dataset:\n",
            "       textID                                               text  \\\n",
            "0  cb774db0d1                I`d have responded, if I were going   \n",
            "1  549e992a42      Sooo SAD I will miss you here in San Diego!!!   \n",
            "2  088c60f138                          my boss is bullying me...   \n",
            "3  9642c003ef                     what interview! leave me alone   \n",
            "4  358bd9e861   Sons of ****, why couldn`t they put them on t...   \n",
            "\n",
            "                         selected_text sentiment Time of Tweet Age of User  \\\n",
            "0  I`d have responded, if I were going   neutral       morning        0-20   \n",
            "1                             Sooo SAD  negative          noon       21-30   \n",
            "2                          bullying me  negative         night       31-45   \n",
            "3                       leave me alone  negative       morning       46-60   \n",
            "4                        Sons of ****,  negative          noon       60-70   \n",
            "\n",
            "       Country  Population -2020  Land Area (Km²)  Density (P/Km²)  \n",
            "0  Afghanistan          38928346         652860.0               60  \n",
            "1      Albania           2877797          27400.0              105  \n",
            "2      Algeria          43851044        2381740.0               18  \n",
            "3      Andorra             77265            470.0              164  \n",
            "4       Angola          32866272        1246700.0               26  \n",
            "\n",
            "Missing values per column:\n",
            "textID              0\n",
            "text                1\n",
            "selected_text       1\n",
            "sentiment           0\n",
            "Time of Tweet       0\n",
            "Age of User         0\n",
            "Country             0\n",
            "Population -2020    0\n",
            "Land Area (Km²)     0\n",
            "Density (P/Km²)     0\n",
            "dtype: int64\n",
            "\n",
            "Column names:\n",
            "['textID', 'text', 'selected_text', 'sentiment', 'Time of Tweet', 'Age of User', 'Country', 'Population -2020', 'Land Area (Km²)', 'Density (P/Km²)']\n"
          ]
        }
      ]
    },
    {
      "cell_type": "code",
      "source": [
        "# Cell 3: Identify Column Names and Map Sentiment (Adjust as needed)\n",
        "\n",
        "# --- Adjust these column names based on your train.csv file ---\n",
        "# Use the output from the previous cell's print(train_df.columns.tolist())\n",
        "text_column_name = 'text'      # Replace with your actual text column name\n",
        "sentiment_column_name = 'sentiment' # Replace with your actual sentiment column name\n",
        "\n",
        "if text_column_name in train_df.columns and sentiment_column_name in train_df.columns:\n",
        "    print(f\"\\nUsing '{text_column_name}' for text and '{sentiment_column_name}' for sentiment.\")\n",
        "\n",
        "    # Map sentiment labels to numerical values\n",
        "    # Adjust the mapping based on the sentiment values in your dataset\n",
        "    # Based on common sentiment datasets, it might be 'positive', 'negative', 'neutral'\n",
        "    # Let's set up a map for those, you can adjust if your labels are different.\n",
        "    sentiment_map = {'negative': 0, 'neutral': 1, 'positive': 2} # Adjust this based on your sentiment values\n",
        "\n",
        "    train_df['sentiment_numerical'] = train_df[sentiment_column_name].map(sentiment_map)\n",
        "\n",
        "    # Drop rows with missing values in the relevant columns\n",
        "    # Also drop rows where sentiment mapping resulted in NaN (if any unknown values)\n",
        "    initial_rows = len(train_df)\n",
        "    train_df.dropna(subset=[text_column_name, 'sentiment_numerical'], inplace=True)\n",
        "    rows_after_drop = len(train_df)\n",
        "    if initial_rows > rows_after_drop:\n",
        "        print(f\"\\nDropped {initial_rows - rows_after_drop} rows with missing values.\")\n",
        "\n",
        "\n",
        "    print(\"\\nFirst 5 rows with numerical sentiment:\")\n",
        "    print(train_df[[text_column_name, sentiment_column_name, 'sentiment_numerical']].head())\n",
        "\n",
        "else:\n",
        "    print(f\"\\nError: Dataset does not contain '{text_column_name}' and '{sentiment_column_name}' columns as expected.\")\n",
        "    print(\"Please check the 'Column names:' output from the previous cell and update the variables 'text_column_name' and 'sentiment_column_name' in this cell.\")\n",
        "    # Consider stopping execution here if the necessary columns are not found."
      ],
      "metadata": {
        "colab": {
          "base_uri": "https://localhost:8080/"
        },
        "id": "9wVJI97TN_XS",
        "outputId": "5abea5b4-8edb-4505-e4ae-b9a6b0c0459e"
      },
      "execution_count": 6,
      "outputs": [
        {
          "output_type": "stream",
          "name": "stdout",
          "text": [
            "\n",
            "Using 'text' for text and 'sentiment' for sentiment.\n",
            "\n",
            "Dropped 1 rows with missing values.\n",
            "\n",
            "First 5 rows with numerical sentiment:\n",
            "                                                text sentiment  \\\n",
            "0                I`d have responded, if I were going   neutral   \n",
            "1      Sooo SAD I will miss you here in San Diego!!!  negative   \n",
            "2                          my boss is bullying me...  negative   \n",
            "3                     what interview! leave me alone  negative   \n",
            "4   Sons of ****, why couldn`t they put them on t...  negative   \n",
            "\n",
            "   sentiment_numerical  \n",
            "0                    1  \n",
            "1                    0  \n",
            "2                    0  \n",
            "3                    0  \n",
            "4                    0  \n"
          ]
        }
      ]
    },
    {
      "cell_type": "code",
      "source": [
        "# Cell 4: Text Cleaning\n",
        "\n",
        "# Ensure the necessary columns exist before proceeding\n",
        "if 'sentiment_numerical' in train_df.columns and text_column_name in train_df.columns:\n",
        "\n",
        "    from nltk.stem.porter import PorterStemmer\n",
        "    porter = PorterStemmer()\n",
        "\n",
        "    def clean_text(text):\n",
        "        # Ensure the input is a string before processing\n",
        "        if not isinstance(text, str):\n",
        "            return \"\"\n",
        "        text = text.lower() # Convert to lowercase\n",
        "        text = re.sub(r'[^a-z\\s]', '', text) # Remove non-alphabetic characters\n",
        "        tokens = word_tokenize(text) # Tokenize\n",
        "        tokens = [word for word in tokens if word not in stopwords.words('english')] # Remove stop words\n",
        "        # Add Stemming\n",
        "        tokens = [porter.stem(word) for word in tokens]\n",
        "        return ' '.join(tokens)\n",
        "\n",
        "    # Apply cleaning to the text column\n",
        "    train_df['cleaned_text'] = train_df[text_column_name].apply(clean_text)\n",
        "\n",
        "    print(\"\\nFirst 5 rows with cleaned text:\")\n",
        "    print(train_df[[text_column_name, 'cleaned_text']].head())\n",
        "else:\n",
        "    print(\"\\nSkipping text cleaning: Required columns ('sentiment_numerical' or text column) not found.\")"
      ],
      "metadata": {
        "colab": {
          "base_uri": "https://localhost:8080/"
        },
        "id": "rSLaR6eOOIEH",
        "outputId": "230bcf7b-53b2-441e-ebb3-2dcc5f76c086"
      },
      "execution_count": 7,
      "outputs": [
        {
          "output_type": "stream",
          "name": "stdout",
          "text": [
            "\n",
            "First 5 rows with cleaned text:\n",
            "                                                text  \\\n",
            "0                I`d have responded, if I were going   \n",
            "1      Sooo SAD I will miss you here in San Diego!!!   \n",
            "2                          my boss is bullying me...   \n",
            "3                     what interview! leave me alone   \n",
            "4   Sons of ****, why couldn`t they put them on t...   \n",
            "\n",
            "                            cleaned_text  \n",
            "0                          id respond go  \n",
            "1                sooo sad miss san diego  \n",
            "2                             boss bulli  \n",
            "3                    interview leav alon  \n",
            "4  son couldnt put releas alreadi bought  \n"
          ]
        }
      ]
    },
    {
      "cell_type": "code",
      "source": [
        "# Cell 5: Split Data and Vectorize Text\n",
        "\n",
        "# Ensure 'cleaned_text' and 'sentiment_numerical' columns exist before proceeding\n",
        "if 'cleaned_text' in train_df.columns and 'sentiment_numerical' in train_df.columns:\n",
        "    print(\"\\nSplitting data and vectorizing text...\")\n",
        "\n",
        "    X = train_df['cleaned_text']\n",
        "    y = train_df['sentiment_numerical']\n",
        "\n",
        "    # Split data into training and testing sets\n",
        "    X_train, X_test, y_train, y_test = train_test_split(X, y, test_size=0.2, random_state=42)\n",
        "\n",
        "    # Vectorize text data using TF-IDF with bigrams\n",
        "    vectorizer = TfidfVectorizer(max_features=10000, ngram_range=(1, 2)) # Added ngram_range=(1, 2)\n",
        "    X_train_vec = vectorizer.fit_transform(X_train)\n",
        "    X_test_vec = vectorizer.transform(X_test)\n",
        "\n",
        "    print(f\"Shape of X_train_vec: {X_train_vec.shape}\")\n",
        "    print(f\"Shape of X_test_vec: {X_test_vec.shape}\")\n",
        "\n",
        "else:\n",
        "     print(\"\\nSkipping data splitting and vectorization: Required columns ('cleaned_text' or 'sentiment_numerical') not found.\")"
      ],
      "metadata": {
        "colab": {
          "base_uri": "https://localhost:8080/"
        },
        "id": "r9uU1AxqONaw",
        "outputId": "07fce0f5-4349-4131-f64a-f459cf25fc37"
      },
      "execution_count": 8,
      "outputs": [
        {
          "output_type": "stream",
          "name": "stdout",
          "text": [
            "\n",
            "Splitting data and vectorizing text...\n",
            "Shape of X_train_vec: (21984, 10000)\n",
            "Shape of X_test_vec: (5496, 10000)\n"
          ]
        }
      ]
    },
    {
      "cell_type": "code",
      "source": [
        "# Cell 6: Train Multiple Models and Store Results - MODIFIED\n",
        "# Ensure vectorization was successful and data exists before training\n",
        "if 'X_train_vec' in locals() and X_train_vec is not None and 'y_train' in locals() and y_train is not None and X_train_vec.shape[0] > 0 and y_train.shape[0] > 0:\n",
        "    print(\"\\nTraining multiple models...\")\n",
        "\n",
        "    # Define the models to compare\n",
        "    # You can choose 5 models from the ones imported in Cell 1\n",
        "    models = {\n",
        "        \"Logistic Regression\": LogisticRegression(max_iter=2000, random_state=42), # Increased max_iter\n",
        "        \"Multinomial Naive Bayes\": MultinomialNB(),\n",
        "        \"Linear SVM\": LinearSVC(max_iter=10000, random_state=42),\n",
        "        \"Decision Tree\": DecisionTreeClassifier(random_state=42),\n",
        "        \"Random Forest\": RandomForestClassifier(random_state=42)\n",
        "        # You could add KNeighborsClassifier() here if you want 6 models\n",
        "    }\n",
        "\n",
        "    results = {} # Dictionary to store accuracy results\n",
        "    trained_models = {} # Dictionary to store the trained model objects\n",
        "\n",
        "    for name, model in models.items():\n",
        "        print(f\"Training {name}...\")\n",
        "        try:\n",
        "            model.fit(X_train_vec, y_train)\n",
        "            y_pred = model.predict(X_test_vec)\n",
        "            accuracy = accuracy_score(y_test, y_pred)\n",
        "            results[name] = accuracy\n",
        "            trained_models[name] = model # Store the trained model\n",
        "            print(f\"{name} Accuracy: {accuracy:.4f}\")\n",
        "        except Exception as e:\n",
        "            print(f\"Error training {name}: {e}\")\n",
        "            results[name] = None # Indicate training failed\n",
        "\n",
        "    # Find the best model (only among successfully trained models)\n",
        "    successful_results = {name: acc for name, acc in results.items() if acc is not None}\n",
        "    if successful_results:\n",
        "        best_model_name = max(successful_results, key=successful_results.get)\n",
        "        best_model = trained_models[best_model_name]\n",
        "        print(f\"\\nBest model: {best_model_name} with accuracy: {results[best_model_name]:.4f}\")\n",
        "    else:\n",
        "        print(\"\\nNo models were successfully trained.\")\n",
        "        best_model_name = None\n",
        "        best_model = None\n",
        "\n",
        "else:\n",
        "    print(\"\\nSkipping model training: Vectorized training data not available or is empty.\")\n",
        "    best_model_name = None\n",
        "    best_model = None\n",
        "    results = {} # Ensure results dictionary is empty"
      ],
      "metadata": {
        "colab": {
          "base_uri": "https://localhost:8080/"
        },
        "id": "iLy8yK6zOpiB",
        "outputId": "2cd6faa9-4dd6-41b2-9095-a952d2a9ae59"
      },
      "execution_count": 10,
      "outputs": [
        {
          "output_type": "stream",
          "name": "stdout",
          "text": [
            "\n",
            "Training multiple models...\n",
            "Training Logistic Regression...\n",
            "Logistic Regression Accuracy: 0.6845\n",
            "Training Multinomial Naive Bayes...\n",
            "Multinomial Naive Bayes Accuracy: 0.6328\n",
            "Training Linear SVM...\n",
            "Linear SVM Accuracy: 0.6689\n",
            "Training Decision Tree...\n",
            "Decision Tree Accuracy: 0.6459\n",
            "Training Random Forest...\n",
            "Random Forest Accuracy: 0.6976\n",
            "\n",
            "Best model: Random Forest with accuracy: 0.6976\n"
          ]
        }
      ]
    },
    {
      "cell_type": "code",
      "source": [
        "# Cell 7: Evaluate the Best Model (using the best model found in Cell 6)\n",
        "\n",
        "# Ensure the best model was found and test data is available\n",
        "if 'best_model' in locals() and best_model is not None and 'X_test_vec' in locals() and X_test_vec is not None and 'y_test' in locals() and y_test is not None and X_test_vec.shape[0] > 0 and y_test.shape[0] > 0:\n",
        "    print(f\"\\nEvaluating the best model: {best_model_name}\")\n",
        "\n",
        "    try:\n",
        "        y_pred_best = best_model.predict(X_test_vec)\n",
        "\n",
        "        # Evaluate the best model\n",
        "        print(\"\\nAccuracy:\", accuracy_score(y_test, y_pred_best))\n",
        "        print(\"\\nClassification Report:\\n\", classification_report(y_test, y_pred_best))\n",
        "    except Exception as e:\n",
        "        print(f\"Error evaluating best model: {e}\")\n",
        "\n",
        "\n",
        "else:\n",
        "    print(\"\\nSkipping best model evaluation: Best model or test data not available or is empty.\")\n",
        "\n",
        "# Cell 8: Visualize Model Accuracies\n",
        "\n",
        "import matplotlib.pyplot as plt\n",
        "import seaborn as sns\n",
        "\n",
        "# Ensure results were generated and are not empty\n",
        "if 'results' in locals() and results:\n",
        "    print(\"\\nGenerating accuracy visualization...\")\n",
        "\n",
        "    # Filter out None values in results (for models that failed to train)\n",
        "    plottable_results = {name: acc for name, acc in results.items() if acc is not None}\n",
        "\n",
        "    if plottable_results:\n",
        "        # Create a pandas Series for easier plotting\n",
        "        accuracy_series = pd.Series(plottable_results)\n",
        "\n",
        "        plt.figure(figsize=(12, 7)) # Increased figure size\n",
        "        sns.barplot(x=accuracy_series.index, y=accuracy_series.values, palette='viridis') # Added a color palette\n",
        "        plt.title('Accuracy of Different Models', fontsize=16) # Increased title font size\n",
        "        plt.ylabel('Accuracy', fontsize=12)\n",
        "        plt.xlabel('Model', fontsize=12)\n",
        "        plt.ylim(0, 1.05) # Set y-axis limit from 0 to slightly above 1\n",
        "        plt.xticks(rotation=45, ha='right', fontsize=10) # Rotate x-axis labels for better readability, adjusted font size\n",
        "        plt.yticks(fontsize=10) # Adjusted y-axis font size\n",
        "        plt.grid(axis='y', linestyle='--', alpha=0.7) # Add a horizontal grid\n",
        "        plt.tight_layout() # Adjust layout to prevent labels from overlapping\n",
        "        plt.show()\n",
        "    else:\n",
        "         print(\"\\nSkipping accuracy visualization: No successful model results to plot.\")\n",
        "\n",
        "else:\n",
        "    print(\"\\nSkipping accuracy visualization: No model results available.\")"
      ],
      "metadata": {
        "colab": {
          "base_uri": "https://localhost:8080/",
          "height": 1000
        },
        "id": "M2vbFNZTOz-e",
        "outputId": "e58e11fa-58ef-4d5e-d281-449af292567e"
      },
      "execution_count": 12,
      "outputs": [
        {
          "output_type": "stream",
          "name": "stdout",
          "text": [
            "\n",
            "Evaluating the best model: Random Forest\n",
            "\n",
            "Accuracy: 0.6975982532751092\n",
            "\n",
            "Classification Report:\n",
            "               precision    recall  f1-score   support\n",
            "\n",
            "           0       0.72      0.59      0.65      1572\n",
            "           1       0.66      0.72      0.68      2236\n",
            "           2       0.74      0.77      0.75      1688\n",
            "\n",
            "    accuracy                           0.70      5496\n",
            "   macro avg       0.71      0.69      0.70      5496\n",
            "weighted avg       0.70      0.70      0.70      5496\n",
            "\n",
            "\n",
            "Generating accuracy visualization...\n"
          ]
        },
        {
          "output_type": "stream",
          "name": "stderr",
          "text": [
            "/tmp/ipython-input-3430188673.py:37: FutureWarning: \n",
            "\n",
            "Passing `palette` without assigning `hue` is deprecated and will be removed in v0.14.0. Assign the `x` variable to `hue` and set `legend=False` for the same effect.\n",
            "\n",
            "  sns.barplot(x=accuracy_series.index, y=accuracy_series.values, palette='viridis') # Added a color palette\n"
          ]
        },
        {
          "output_type": "display_data",
          "data": {
            "text/plain": [
              "<Figure size 1200x700 with 1 Axes>"
            ],
            "image/png": "[encoded data removed]"
          },
          "metadata": {}
        }
      ]
    },
    {
      "cell_type": "code",
      "source": [
        "# Cell 8: Predict Sentiment of Real-time Input\n",
        "\n",
        "# Make sure you have run all previous cells (1-7) successfully\n",
        "# This cell assumes you have a trained 'model' and a fitted 'vectorizer'\n",
        "# It also uses the clean_text function and sentiment_map from previous cells\n",
        "\n",
        "def predict_sentiment(text):\n",
        "    # 1. Preprocess the text (using the same clean_text function from Cell 4)\n",
        "    cleaned_text = clean_text(text)\n",
        "\n",
        "    # 2. Vectorize the text (using the same vectorizer from Cell 5)\n",
        "    # The vectorizer needs to be fitted on the training data first (done in Cell 5)\n",
        "    vectorized_text = vectorizer.transform([cleaned_text])\n",
        "\n",
        "    # 3. Make a prediction using the trained model (from Cell 6)\n",
        "    prediction_numerical = model.predict(vectorized_text)[0]\n",
        "\n",
        "    # 4. Interpret the prediction based on your sentiment_map (from Cell 3)\n",
        "    # We need to reverse the sentiment_map to get labels from numerical values\n",
        "    reverse_sentiment_map = {v: k for k, v in sentiment_map.items()}\n",
        "    predicted_sentiment = reverse_sentiment_map.get(prediction_numerical, \"Unknown\") # Handle potential unknown values\n",
        "\n",
        "    return predicted_sentiment\n",
        "\n",
        "# --- Get real-time input from the user ---\n",
        "print(\"Enter the text you want to analyze sentiment for (type 'quit' to exit):\")\n",
        "\n",
        "while True:\n",
        "    user_input = input()\n",
        "\n",
        "    if user_input.lower() == 'quit':\n",
        "        print(\"Exiting sentiment analysis.\")\n",
        "        break\n",
        "\n",
        "    if user_input: # Process only if input is not empty\n",
        "        predicted_sentiment = predict_sentiment(user_input)\n",
        "        print(f\"Sentiment: {predicted_sentiment}\")\n",
        "        print(\"Enter another text or type 'quit' to exit:\")\n",
        "    else:\n",
        "        print(\"Please enter some text.\")"
      ],
      "metadata": {
        "colab": {
          "base_uri": "https://localhost:8080/"
        },
        "id": "BaNUFl6lO0kF",
        "outputId": "70084cb1-5d48-4989-fdd5-8ad73b2fcc6c"
      },
      "execution_count": 15,
      "outputs": [
        {
          "output_type": "stream",
          "name": "stdout",
          "text": [
            "Enter the text you want to analyze sentiment for (type 'quit' to exit):\n",
            "Good morning\n",
            "Sentiment: positive\n",
            "Enter another text or type 'quit' to exit:\n",
            "exit\n",
            "Sentiment: neutral\n",
            "Enter another text or type 'quit' to exit:\n",
            "quit\n",
            "Exiting sentiment analysis.\n"
          ]
        }
      ]
    },
    {
      "cell_type": "code",
      "source": [
        "# Cell 9: Predict Sentiment of Real-time Input (using the best model)\n",
        "\n",
        "# Make sure you have run all previous cells (1-7/8) successfully\n",
        "# This cell assumes you have the 'best_model' and a fitted 'vectorizer'\n",
        "# It also uses the clean_text function and sentiment_map from previous cells\n",
        "\n",
        "def predict_sentiment(text):\n",
        "    # 1. Preprocess the text (using the same clean_text function from Cell 4)\n",
        "    cleaned_text = clean_text(text)\n",
        "\n",
        "    # 2. Vectorize the text (using the same vectorizer from Cell 5)\n",
        "    # The vectorizer needs to be fitted on the training data first (done in Cell 5)\n",
        "    vectorized_text = vectorizer.transform([cleaned_text])\n",
        "\n",
        "    # 3. Make a prediction using the best trained model\n",
        "    prediction_numerical = best_model.predict(vectorized_text)[0]\n",
        "\n",
        "    # 4. Interpret the prediction based on your sentiment_map (from Cell 3)\n",
        "    # We need to reverse the sentiment_map to get labels from numerical values\n",
        "    reverse_sentiment_map = {v: k for k, v in sentiment_map.items()}\n",
        "    predicted_sentiment = reverse_sentiment_map.get(prediction_numerical, \"Unknown\") # Handle potential unknown values\n",
        "\n",
        "    return predicted_sentiment\n",
        "\n",
        "# --- Get real-time input from the user ---\n",
        "print(\"\\nEnter the text you want to analyze sentiment for using the best model (type 'quit' to exit):\")\n",
        "\n",
        "while True:\n",
        "    user_input = input()\n",
        "\n",
        "    if user_input.lower() == 'quit':\n",
        "        print(\"Exiting sentiment analysis.\")\n",
        "        break\n",
        "\n",
        "    if user_input: # Process only if input is not empty\n",
        "        predicted_sentiment = predict_sentiment(user_input)\n",
        "        print(f\"Sentiment: {predicted_sentiment}\")\n",
        "        print(\"Enter another text or type 'quit' to exit:\")\n",
        "    else:\n",
        "        print(\"Please enter some text.\")"
      ],
      "metadata": {
        "id": "ZUVJ9l9kccIb",
        "colab": {
          "base_uri": "https://localhost:8080/"
        },
        "outputId": "58956c90-c8eb-4b4b-aaf3-8d1cd1a48475"
      },
      "execution_count": 16,
      "outputs": [
        {
          "output_type": "stream",
          "name": "stdout",
          "text": [
            "\n",
            "Enter the text you want to analyze sentiment for using the best model (type 'quit' to exit):\n",
            "I absolutely love this product!\n",
            "Sentiment: positive\n",
            "Enter another text or type 'quit' to exit:\n",
            "quit\n",
            "Exiting sentiment analysis.\n"
          ]
        }
      ]
    },
    {
      "cell_type": "code",
      "source": [],
      "metadata": {
        "id": "fAhqR_i1cy7y"
      },
      "execution_count": null,
      "outputs": []
    },
    {
      "cell_type": "code",
      "source": [
        "import joblib\n",
        "\n",
        "# Save your model\n",
        "joblib.dump(model, 'sentiment_model.pkl')\n"
      ],
      "metadata": {
        "id": "_oWoH2t-RXc1",
        "colab": {
          "base_uri": "https://localhost:8080/"
        },
        "outputId": "eaa645d3-a509-48e6-d13c-71265775c45d"
      },
      "execution_count": null,
      "outputs": [
        {
          "output_type": "execute_result",
          "data": {
            "text/plain": [
              "['sentiment_model.pkl']"
            ]
          },
          "metadata": {},
          "execution_count": 10
        }
      ]
    },
    {
      "cell_type": "code",
      "source": [
        "from google.colab import files\n",
        "files.download('sentiment_model.pkl')\n"
      ],
      "metadata": {
        "colab": {
          "base_uri": "https://localhost:8080/",
          "height": 17
        },
        "id": "9lBkHFMenZVg",
        "outputId": "0d671b47-8b57-40f0-c19e-21f13357e845"
      },
      "execution_count": null,
      "outputs": [
        {
          "output_type": "display_data",
          "data": {
            "text/plain": [
              "<IPython.core.display.Javascript object>"
            ],
            "application/javascript": [
              "\n",
              "    async function download(id, filename, size) {\n",
              "      if (!google.colab.kernel.accessAllowed) {\n",
              "        return;\n",
              "      }\n",
              "      const div = document.createElement('div');\n",
              "      const label = document.createElement('label');\n",
              "      label.textContent = `Downloading \"${filename}\": `;\n",
              "      div.appendChild(label);\n",
              "      const progress = document.createElement('progress');\n",
              "      progress.max = size;\n",
              "      div.appendChild(progress);\n",
              "      document.body.appendChild(div);\n",
              "\n",
              "      const buffers = [];\n",
              "      let downloaded = 0;\n",
              "\n",
              "      const channel = await google.colab.kernel.comms.open(id);\n",
              "      // Send a message to notify the kernel that we're ready.\n",
              "      channel.send({})\n",
              "\n",
              "      for await (const message of channel.messages) {\n",
              "        // Send a message to notify the kernel that we're ready.\n",
              "        channel.send({})\n",
              "        if (message.buffers) {\n",
              "          for (const buffer of message.buffers) {\n",
              "            buffers.push(buffer);\n",
              "            downloaded += buffer.byteLength;\n",
              "            progress.value = downloaded;\n",
              "          }\n",
              "        }\n",
              "      }\n",
              "      const blob = new Blob(buffers, {type: 'application/binary'});\n",
              "      const a = document.createElement('a');\n",
              "      a.href = window.URL.createObjectURL(blob);\n",
              "      a.download = filename;\n",
              "      div.appendChild(a);\n",
              "      a.click();\n",
              "      div.remove();\n",
              "    }\n",
              "  "
            ]
          },
          "metadata": {}
        },
        {
          "output_type": "display_data",
          "data": {
            "text/plain": [
              "<IPython.core.display.Javascript object>"
            ],
            "application/javascript": [
              "download(\"download_a82c678b-3db1-403f-a51d-567494867f3b\", \"sentiment_model.pkl\", 240763)"
            ]
          },
          "metadata": {}
        }
      ]
    },
    {
      "cell_type": "code",
      "source": [
        "import joblib\n",
        "\n",
        "# Save your TF-IDF vectorizer\n",
        "joblib.dump(vectorizer, 'tfidf_vectorizer.pkl')\n"
      ],
      "metadata": {
        "colab": {
          "base_uri": "https://localhost:8080/"
        },
        "id": "NRFJmm2LpXbW",
        "outputId": "0594842a-a219-462d-869e-ea65b18ff784"
      },
      "execution_count": null,
      "outputs": [
        {
          "output_type": "execute_result",
          "data": {
            "text/plain": [
              "['tfidf_vectorizer.pkl']"
            ]
          },
          "metadata": {},
          "execution_count": 12
        }
      ]
    },
    {
      "cell_type": "code",
      "source": [
        "from google.colab import files\n",
        "files.download('tfidf_vectorizer.pkl')"
      ],
      "metadata": {
        "colab": {
          "base_uri": "https://localhost:8080/",
          "height": 17
        },
        "id": "LIEVvcmepZEE",
        "outputId": "ebd7456a-69c2-4886-906e-ce483fab5155"
      },
      "execution_count": null,
      "outputs": [
        {
          "output_type": "display_data",
          "data": {
            "text/plain": [
              "<IPython.core.display.Javascript object>"
            ],
            "application/javascript": [
              "\n",
              "    async function download(id, filename, size) {\n",
              "      if (!google.colab.kernel.accessAllowed) {\n",
              "        return;\n",
              "      }\n",
              "      const div = document.createElement('div');\n",
              "      const label = document.createElement('label');\n",
              "      label.textContent = `Downloading \"${filename}\": `;\n",
              "      div.appendChild(label);\n",
              "      const progress = document.createElement('progress');\n",
              "      progress.max = size;\n",
              "      div.appendChild(progress);\n",
              "      document.body.appendChild(div);\n",
              "\n",
              "      const buffers = [];\n",
              "      let downloaded = 0;\n",
              "\n",
              "      const channel = await google.colab.kernel.comms.open(id);\n",
              "      // Send a message to notify the kernel that we're ready.\n",
              "      channel.send({})\n",
              "\n",
              "      for await (const message of channel.messages) {\n",
              "        // Send a message to notify the kernel that we're ready.\n",
              "        channel.send({})\n",
              "        if (message.buffers) {\n",
              "          for (const buffer of message.buffers) {\n",
              "            buffers.push(buffer);\n",
              "            downloaded += buffer.byteLength;\n",
              "            progress.value = downloaded;\n",
              "          }\n",
              "        }\n",
              "      }\n",
              "      const blob = new Blob(buffers, {type: 'application/binary'});\n",
              "      const a = document.createElement('a');\n",
              "      a.href = window.URL.createObjectURL(blob);\n",
              "      a.download = filename;\n",
              "      div.appendChild(a);\n",
              "      a.click();\n",
              "      div.remove();\n",
              "    }\n",
              "  "
            ]
          },
          "metadata": {}
        },
        {
          "output_type": "display_data",
          "data": {
            "text/plain": [
              "<IPython.core.display.Javascript object>"
            ],
            "application/javascript": [
              "download(\"download_30391683-d207-4d28-9477-34da9b1301d7\", \"tfidf_vectorizer.pkl\", 0)"
            ]
          },
          "metadata": {}
        }
      ]
    }
  ]
}